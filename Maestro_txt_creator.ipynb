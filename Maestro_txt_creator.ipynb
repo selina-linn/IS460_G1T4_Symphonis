{
 "cells": [
  {
   "cell_type": "code",
   "execution_count": 1,
   "metadata": {},
   "outputs": [],
   "source": [
    "import os \n",
    "import pretty_midi as pm\n",
    "import librosa\n",
    "import pylab\n",
    "import numpy as np\n",
    "import pandas as pd\n",
    "import matplotlib.pyplot as plt\n",
    "#import seaborn as sns\n",
    "import soundfile\n",
    "# import torch \n",
    "from tqdm import tqdm\n",
    "from scipy.fftpack import dct\n",
    "from sklearn.model_selection import train_test_split\n",
    "\n",
    "# Image processing\n",
    "from PIL import Image\n",
    "from numpy import asarray\n",
    "from matplotlib import cm\n"
   ]
  },
  {
   "cell_type": "code",
   "execution_count": 2,
   "metadata": {},
   "outputs": [],
   "source": [
    "import os\n",
    "\n",
    "filelist = []\n",
    "\n",
    "directory =  r\"G:\\ML_Datasets\\IS460_proj\\maestro-v3.0.0\\2018\"   #Set your directory here, add r in fron if need to convert to raw string\n",
    "# directory = r\"G:\\ML_Datasets\\IS460_proj\\maps\\ENSTDkCl\"\n",
    "#directory = r\"G:\\ML_Datasets\\IS460_proj\\maps\\AkPnBcht\"\n",
    "#directory = r\"G:\\ML_Datasets\\IS460_proj\\maps\\AkPnBcht\\AkPnBcht\\ISOL\"\n",
    "\n",
    "osdirectory = fr\"{directory}\"\n",
    "\n",
    "for root, dirs, files in os.walk(os.path.abspath(osdirectory)):\n",
    "    for file in files:\n",
    "        if file[-3:] != \"txt\":   #Skipping any .txt files, as we only wish to work with MIDI and wav\n",
    "            filelist.append((os.path.join(root, file), file, root))      "
   ]
  },
  {
   "cell_type": "code",
   "execution_count": 3,
   "metadata": {},
   "outputs": [
    {
     "name": "stdout",
     "output_type": "stream",
     "text": [
      "MIDI-Unprocessed_Chamber2_MID--AUDIO_09_R3_2018_wav--1.midi \n",
      " MIDI-Unprocessed_Chamber2_MID--AUDIO_09_R3_2018_wav--1.wav\n"
     ]
    }
   ],
   "source": [
    "print(filelist[0][1],\"\\n\",filelist[1][1])\n",
    "\n",
    "#print(filelist[0][2],\"\\n\",filelist[1][2])"
   ]
  },
  {
   "cell_type": "code",
   "execution_count": 32,
   "metadata": {},
   "outputs": [
    {
     "name": "stderr",
     "output_type": "stream",
     "text": [
      "100%|██████████| 186/186 [01:04<00:00,  2.87it/s]\n"
     ]
    }
   ],
   "source": [
    "from mido import MidiFile\n",
    "\n",
    "os.chdir(directory)\n",
    "\n",
    "for file in tqdm(range(len(filelist))): # converts midi files into txt files\n",
    "\n",
    "\n",
    "    midi_file_path = filelist[file][1]\n",
    "    if midi_file_path.endswith(\"midi\"):\n",
    "        midi_file = MidiFile(midi_file_path)\n",
    "\n",
    "        \n",
    "        output_file = f\"{midi_file_path[:-4]}txt\"\n",
    "\n",
    "        \n",
    "        with open(output_file, \"w\") as file:\n",
    "\n",
    "            file.write(\"OnsetTime\\tOffsetTime\\tMidiPitch\\n\") # Title indicating which column is which in (OnsetTime, OffsetTime, MidiPitch) format\n",
    "            \n",
    "            \n",
    "            notes_on = {} # keeps track of which notes are still being pressed. \n",
    "            current_time = 0\n",
    "            \n",
    "            \n",
    "            for msg in midi_file:\n",
    "                current_time += msg.time # keeps track of current time\n",
    "                \n",
    "                if msg.type == 'note_on' and msg.velocity > 0: # if note is being played and volume is louder than silence, add to notes_on dictionary that the key is currently pressed\n",
    "                    notes_on[msg.note] = current_time\n",
    "                \n",
    "                elif msg.type == 'note_off' or (msg.type == 'note_on' and msg.velocity == 0): # else, register the note as no longer being played\n",
    "                    onset_time = notes_on.pop(msg.note, None) # When popped, output is registered as the onset time, and current time is registered as offset time\n",
    "                    if onset_time is not None:\n",
    "                        file.write(f\"{onset_time}\\t{current_time}\\t{msg.note}\\n\")\n",
    "\n",
    "\n"
   ]
  },
  {
   "cell_type": "code",
   "execution_count": 4,
   "metadata": {},
   "outputs": [],
   "source": [
    "from mido import MidiFile"
   ]
  },
  {
   "cell_type": "code",
   "execution_count": 8,
   "metadata": {},
   "outputs": [
    {
     "data": {
      "text/plain": [
       "mido.midifiles.midifiles.MidiFile"
      ]
     },
     "execution_count": 8,
     "metadata": {},
     "output_type": "execute_result"
    }
   ],
   "source": [
    "midi_file = MidiFile(filelist[0][0])\n",
    "type(midi_file)\n",
    "# for line in midi_file:\n",
    "#     print(type(line))"
   ]
  },
  {
   "cell_type": "code",
   "execution_count": 10,
   "metadata": {},
   "outputs": [
    {
     "data": {
      "text/plain": [
       "('G:\\\\ML_Datasets\\\\IS460_proj\\\\maestro-v3.0.0\\\\2018\\\\MIDI-Unprocessed_Chamber2_MID--AUDIO_09_R3_2018_wav--1.midi',\n",
       " 'MIDI-Unprocessed_Chamber2_MID--AUDIO_09_R3_2018_wav--1.midi',\n",
       " 'G:\\\\ML_Datasets\\\\IS460_proj\\\\maestro-v3.0.0\\\\2018')"
      ]
     },
     "execution_count": 10,
     "metadata": {},
     "output_type": "execute_result"
    }
   ],
   "source": []
  }
 ],
 "metadata": {
  "kernelspec": {
   "display_name": "Python 3",
   "language": "python",
   "name": "python3"
  },
  "language_info": {
   "codemirror_mode": {
    "name": "ipython",
    "version": 3
   },
   "file_extension": ".py",
   "mimetype": "text/x-python",
   "name": "python",
   "nbconvert_exporter": "python",
   "pygments_lexer": "ipython3",
   "version": "3.10.7"
  }
 },
 "nbformat": 4,
 "nbformat_minor": 2
}
