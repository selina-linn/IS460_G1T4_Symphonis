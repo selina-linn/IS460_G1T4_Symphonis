{
 "cells": [
  {
   "cell_type": "code",
   "execution_count": 1,
   "metadata": {},
   "outputs": [],
   "source": [
    "import os\n",
    "import numpy as np\n",
    "import pandas as pd"
   ]
  },
  {
   "cell_type": "code",
   "execution_count": 2,
   "metadata": {},
   "outputs": [],
   "source": [
    "file_path = \"/mnt/g/ML_Datasets/IS460_proj/Maestro batch training\""
   ]
  },
  {
   "cell_type": "code",
   "execution_count": 3,
   "metadata": {},
   "outputs": [],
   "source": [
    "metadata = pd.read_csv(\"/mnt/g/ML_Datasets/IS460_proj/maestro_info_3/maestro-v3.0.0.csv\")\n",
    "metadata['filename'] = metadata['audio_filename'].apply(lambda x: x[5:-4])\n",
    "train_names = set(metadata[metadata['split'].isin(['train', 'validation'])])"
   ]
  },
  {
   "cell_type": "code",
   "execution_count": 4,
   "metadata": {},
   "outputs": [],
   "source": [
    "train_names = set(metadata[metadata['split'].isin(['train', 'validation'])]['filename'])\n",
    "test_names = set(metadata[metadata['split'].isin(['test'])]['filename'])"
   ]
  },
  {
   "cell_type": "code",
   "execution_count": 13,
   "metadata": {},
   "outputs": [
    {
     "name": "stdout",
     "output_type": "stream",
     "text": [
      "start of loop\n",
      "---\t set 0\t---\n",
      "part 0 has 79 unique names\n",
      "train_set has 69 unique names\n",
      "test_set has 10 unique names\n",
      "Splits match with temp_load\n",
      "---\t set 1\t---\n",
      "part 1 has 112 unique names\n",
      "train_set has 101 unique names\n",
      "test_set has 11 unique names\n",
      "Splits match with temp_load\n",
      "---\t set 2\t---\n",
      "part 2 has 91 unique names\n",
      "train_set has 82 unique names\n",
      "test_set has 9 unique names\n",
      "Splits match with temp_load\n",
      "---\t set 3\t---\n",
      "part 3 has 140 unique names\n",
      "train_set has 115 unique names\n",
      "test_set has 25 unique names\n",
      "Splits match with temp_load\n",
      "---\t set 4\t---\n",
      "part 4 has 137 unique names\n",
      "train_set has 115 unique names\n",
      "test_set has 22 unique names\n",
      "Splits match with temp_load\n",
      "---\t set 5\t---\n",
      "part 5 has 154 unique names\n",
      "train_set has 135 unique names\n",
      "test_set has 19 unique names\n",
      "Splits match with temp_load\n",
      "---\t set 6\t---\n",
      "part 6 has 178 unique names\n",
      "train_set has 148 unique names\n",
      "test_set has 30 unique names\n",
      "Splits match with temp_load\n",
      "---\t set 7\t---\n",
      "part 7 has 82 unique names\n",
      "train_set has 73 unique names\n",
      "test_set has 9 unique names\n",
      "Splits match with temp_load\n",
      "---\t set 8\t---\n",
      "part 8 has 154 unique names\n",
      "train_set has 130 unique names\n",
      "test_set has 24 unique names\n",
      "Splits match with temp_load\n",
      "---\t set 9\t---\n",
      "part 9 has 149 unique names\n",
      "train_set has 131 unique names\n",
      "test_set has 18 unique names\n",
      "Splits match with temp_load\n"
     ]
    }
   ],
   "source": [
    "file_path = \"/mnt/g/ML_Datasets/IS460_proj/Maestro batch training\"\n",
    "\n",
    "split_name = \"/43to1traintest\"\n",
    "if not os.path.exists(file_path + split_name):\n",
    "    os.mkdir(file_path + split_name)\n",
    "\n",
    "num_parts = 10\n",
    "num_splits = 8\n",
    "\n",
    "print(\"start of loop\")\n",
    "for i in range(num_parts):\n",
    "    print(f\"---\\t set {i}\\t---\")\n",
    "    temp_load = pd.read_pickle(file_path + f'/training_part{i}.pkl')\n",
    "    print(f\"part {i} has {len(temp_load['File Name'].unique())} unique names\")\n",
    "\n",
    "    train_set = temp_load[temp_load['File Name'].isin(train_names)]\n",
    "    train_set.to_pickle(file_path + split_name + f\"/train{i}.pkl\")\n",
    "    print(f\"train_set has {len(train_set['File Name'].unique())} unique names\")\n",
    "    test_set = temp_load[temp_load['File Name'].isin(test_names)]\n",
    "    test_set.to_pickle(file_path + split_name + f\"/test{i}.pkl\")\n",
    "    print(f\"test_set has {len(test_set['File Name'].unique())} unique names\")\n",
    "\n",
    "    if len(train_set['File Name'].unique()) + len(test_set['File Name'].unique()) == len(temp_load['File Name'].unique()):\n",
    "        print(\"Splits match with temp_load\")\n",
    "    else:\n",
    "        print(\"Splits do_not match with temp_load\")\n",
    "    \n",
    "    del temp_load\n",
    "    del train_set\n",
    "    del test_set\n",
    "    "
   ]
  },
  {
   "cell_type": "code",
   "execution_count": null,
   "metadata": {},
   "outputs": [],
   "source": []
  }
 ],
 "metadata": {
  "kernelspec": {
   "display_name": "tf-ws",
   "language": "python",
   "name": "python3"
  },
  "language_info": {
   "codemirror_mode": {
    "name": "ipython",
    "version": 3
   },
   "file_extension": ".py",
   "mimetype": "text/x-python",
   "name": "python",
   "nbconvert_exporter": "python",
   "pygments_lexer": "ipython3",
   "version": "3.10.14"
  }
 },
 "nbformat": 4,
 "nbformat_minor": 2
}
