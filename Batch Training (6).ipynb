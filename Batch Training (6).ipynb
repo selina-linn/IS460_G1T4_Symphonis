{
 "cells": [
  {
   "cell_type": "code",
   "execution_count": 1,
   "id": "14c4c60d-7124-449d-964a-aa57a5a7a4a6",
   "metadata": {},
   "outputs": [],
   "source": [
    "%reset -f\n",
    "\n",
    "import pandas as pd\n",
    "import numpy as np\n",
    "import os \n",
    "from sklearn.model_selection import train_test_split\n",
    "from tensorflow.keras.models import Sequential, load_model\n",
    "from tensorflow.keras.layers import Conv2D, MaxPooling2D, Dense, LSTM, Bidirectional, Flatten, Reshape, Dropout\n",
    "from tensorflow.keras.callbacks import ModelCheckpoint\n",
    "from tensorflow.keras.callbacks import EarlyStopping\n",
    "from tqdm import tqdm"
   ]
  },
  {
   "cell_type": "code",
   "execution_count": 2,
   "id": "5ca8aae5",
   "metadata": {},
   "outputs": [],
   "source": [
    "\n",
    "#PLEASE CHANGE THIS WHEN YOU RUN\n",
    "model_name = \"LSTM_256units_22by1\"\n"
   ]
  },
  {
   "cell_type": "code",
   "execution_count": 3,
   "id": "8bccb0a7-72cf-4adb-b67e-94ccaee87813",
   "metadata": {},
   "outputs": [],
   "source": [
    "def create_lstm_model():\n",
    "    model = Sequential()\n",
    "    model.add(LSTM(256, input_shape=(22, 128)))\n",
    "    model.add(Dropout(0.2))\n",
    "    model.add(Dense(88, activation='sigmoid'))\n",
    "    model.compile(loss='binary_crossentropy', optimizer='adam', metrics=[\"accuracy\"])\n",
    "    return model"
   ]
  },
  {
   "cell_type": "code",
   "execution_count": 8,
   "id": "68a1705b",
   "metadata": {},
   "outputs": [],
   "source": [
    "def create_bidir_lstm_model():\n",
    "    model = Sequential()\n",
    "    model.add(Bidirectional(LSTM(256, input_shape=(22, 128)), merge_mode = 'ave'))\n",
    "    model.add(Dropout(0.2))\n",
    "    model.add(Dense(88, activation='sigmoid'))\n",
    "    model.compile(loss='binary_crossentropy', optimizer='adam', metrics=['accuracy'])\n",
    "    return model\n"
   ]
  },
  {
   "cell_type": "code",
   "execution_count": 12,
   "id": "3a569192",
   "metadata": {},
   "outputs": [],
   "source": [
    "def create_CNN_model():\n",
    "    model = Sequential()\n",
    "\n",
    "    model.add(Conv2D(filters=32, kernel_size=(3, 3), activation='relu', input_shape=(22, 128, 1)))\n",
    "    model.add(MaxPooling2D(pool_size=(2, 2)))\n",
    "\n",
    "    model.add(Conv2D(filters=64, kernel_size=(3, 3), activation='relu'))\n",
    "    model.add(MaxPooling2D(pool_size=(2, 2)))\n",
    "\n",
    "    model.add(Flatten())\n",
    "    model.add(Dense(128, activation='relu'))\n",
    "    model.add(Dense(88, activation='sigmoid'))\n",
    "\n",
    "    model.compile(loss='binary_crossentropy', optimizer='adam', metrics=['binary_crossentropy'])\n",
    "\n",
    "      \n",
    "    return model"
   ]
  },
  {
   "cell_type": "code",
   "execution_count": 4,
   "id": "8964f68c",
   "metadata": {},
   "outputs": [],
   "source": [
    "# change directory accordingly\n",
    "os.chdir(r\"C:\\Users\\Rui Han\\Desktop\\ML project\\MAESTRO processed\\22to1traintest\")"
   ]
  },
  {
   "cell_type": "code",
   "execution_count": 5,
   "id": "d6755b95-cde1-48ef-90af-ebb891a95fea",
   "metadata": {},
   "outputs": [
    {
     "name": "stderr",
     "output_type": "stream",
     "text": [
      "  0%|          | 0/10 [00:00<?, ?it/s]c:\\Users\\Rui Han\\AppData\\Local\\Programs\\Python\\Python312\\Lib\\site-packages\\keras\\src\\layers\\rnn\\rnn.py:205: UserWarning: Do not pass an `input_shape`/`input_dim` argument to a layer. When using Sequential models, prefer using an `Input(shape)` object as the first layer in the model instead.\n",
      "  super().__init__(**kwargs)\n"
     ]
    },
    {
     "name": "stdout",
     "output_type": "stream",
     "text": [
      "Epoch 1/20\n",
      "\u001b[1m1684/1684\u001b[0m \u001b[32m━━━━━━━━━━━━━━━━━━━━\u001b[0m\u001b[37m\u001b[0m \u001b[1m65s\u001b[0m 38ms/step - accuracy: 0.0380 - loss: 0.1790 - val_accuracy: 0.0741 - val_loss: 0.1089\n",
      "Epoch 2/20\n",
      "\u001b[1m1684/1684\u001b[0m \u001b[32m━━━━━━━━━━━━━━━━━━━━\u001b[0m\u001b[37m\u001b[0m \u001b[1m63s\u001b[0m 38ms/step - accuracy: 0.1047 - loss: 0.1009 - val_accuracy: 0.0947 - val_loss: 0.0945\n",
      "Epoch 3/20\n",
      "\u001b[1m1684/1684\u001b[0m \u001b[32m━━━━━━━━━━━━━━━━━━━━\u001b[0m\u001b[37m\u001b[0m \u001b[1m64s\u001b[0m 38ms/step - accuracy: 0.1326 - loss: 0.0714 - val_accuracy: 0.1183 - val_loss: 0.0894\n",
      "Epoch 4/20\n",
      "\u001b[1m1684/1684\u001b[0m \u001b[32m━━━━━━━━━━━━━━━━━━━━\u001b[0m\u001b[37m\u001b[0m \u001b[1m63s\u001b[0m 38ms/step - accuracy: 0.1525 - loss: 0.0545 - val_accuracy: 0.1177 - val_loss: 0.0939\n",
      "Epoch 5/20\n",
      "\u001b[1m1684/1684\u001b[0m \u001b[32m━━━━━━━━━━━━━━━━━━━━\u001b[0m\u001b[37m\u001b[0m \u001b[1m65s\u001b[0m 39ms/step - accuracy: 0.1627 - loss: 0.0442 - val_accuracy: 0.1211 - val_loss: 0.0982\n",
      "Epoch 6/20\n",
      "\u001b[1m1684/1684\u001b[0m \u001b[32m━━━━━━━━━━━━━━━━━━━━\u001b[0m\u001b[37m\u001b[0m \u001b[1m64s\u001b[0m 38ms/step - accuracy: 0.1682 - loss: 0.0378 - val_accuracy: 0.1307 - val_loss: 0.1020\n",
      "Epoch 7/20\n",
      "\u001b[1m1684/1684\u001b[0m \u001b[32m━━━━━━━━━━━━━━━━━━━━\u001b[0m\u001b[37m\u001b[0m \u001b[1m64s\u001b[0m 38ms/step - accuracy: 0.1738 - loss: 0.0329 - val_accuracy: 0.1348 - val_loss: 0.1050\n",
      "Epoch 8/20\n",
      "\u001b[1m1684/1684\u001b[0m \u001b[32m━━━━━━━━━━━━━━━━━━━━\u001b[0m\u001b[37m\u001b[0m \u001b[1m63s\u001b[0m 38ms/step - accuracy: 0.1772 - loss: 0.0293 - val_accuracy: 0.1462 - val_loss: 0.1112\n",
      "Epoch 9/20\n",
      "\u001b[1m1684/1684\u001b[0m \u001b[32m━━━━━━━━━━━━━━━━━━━━\u001b[0m\u001b[37m\u001b[0m \u001b[1m64s\u001b[0m 38ms/step - accuracy: 0.1821 - loss: 0.0269 - val_accuracy: 0.1415 - val_loss: 0.1149\n"
     ]
    },
    {
     "name": "stderr",
     "output_type": "stream",
     "text": [
      " 10%|█         | 1/10 [09:50<1:28:35, 590.63s/it]"
     ]
    },
    {
     "name": "stdout",
     "output_type": "stream",
     "text": [
      "Epoch 1/20\n",
      "\u001b[1m1702/1702\u001b[0m \u001b[32m━━━━━━━━━━━━━━━━━━━━\u001b[0m\u001b[37m\u001b[0m \u001b[1m68s\u001b[0m 39ms/step - accuracy: 0.1422 - loss: 0.0818 - val_accuracy: 0.1522 - val_loss: 0.0850\n",
      "Epoch 2/20\n",
      "\u001b[1m1702/1702\u001b[0m \u001b[32m━━━━━━━━━━━━━━━━━━━━\u001b[0m\u001b[37m\u001b[0m \u001b[1m66s\u001b[0m 39ms/step - accuracy: 0.1669 - loss: 0.0502 - val_accuracy: 0.1635 - val_loss: 0.0945\n",
      "Epoch 3/20\n",
      "\u001b[1m1702/1702\u001b[0m \u001b[32m━━━━━━━━━━━━━━━━━━━━\u001b[0m\u001b[37m\u001b[0m \u001b[1m66s\u001b[0m 39ms/step - accuracy: 0.1740 - loss: 0.0397 - val_accuracy: 0.1570 - val_loss: 0.0969\n",
      "Epoch 4/20\n",
      "\u001b[1m1702/1702\u001b[0m \u001b[32m━━━━━━━━━━━━━━━━━━━━\u001b[0m\u001b[37m\u001b[0m \u001b[1m66s\u001b[0m 39ms/step - accuracy: 0.1755 - loss: 0.0336 - val_accuracy: 0.1608 - val_loss: 0.1008\n",
      "Epoch 5/20\n",
      "\u001b[1m1702/1702\u001b[0m \u001b[32m━━━━━━━━━━━━━━━━━━━━\u001b[0m\u001b[37m\u001b[0m \u001b[1m66s\u001b[0m 39ms/step - accuracy: 0.1796 - loss: 0.0296 - val_accuracy: 0.1572 - val_loss: 0.1065\n",
      "Epoch 6/20\n",
      "\u001b[1m1702/1702\u001b[0m \u001b[32m━━━━━━━━━━━━━━━━━━━━\u001b[0m\u001b[37m\u001b[0m \u001b[1m66s\u001b[0m 39ms/step - accuracy: 0.1802 - loss: 0.0266 - val_accuracy: 0.1513 - val_loss: 0.1114\n",
      "Epoch 7/20\n",
      "\u001b[1m1702/1702\u001b[0m \u001b[32m━━━━━━━━━━━━━━━━━━━━\u001b[0m\u001b[37m\u001b[0m \u001b[1m66s\u001b[0m 39ms/step - accuracy: 0.1792 - loss: 0.0247 - val_accuracy: 0.1570 - val_loss: 0.1129\n"
     ]
    },
    {
     "name": "stderr",
     "output_type": "stream",
     "text": [
      " 20%|██        | 2/10 [17:48<1:09:55, 524.46s/it]"
     ]
    },
    {
     "name": "stdout",
     "output_type": "stream",
     "text": [
      "Epoch 1/20\n",
      "\u001b[1m1644/1644\u001b[0m \u001b[32m━━━━━━━━━━━━━━━━━━━━\u001b[0m\u001b[37m\u001b[0m \u001b[1m68s\u001b[0m 41ms/step - accuracy: 0.1624 - loss: 0.0689 - val_accuracy: 0.1656 - val_loss: 0.0734\n",
      "Epoch 2/20\n",
      "\u001b[1m1644/1644\u001b[0m \u001b[32m━━━━━━━━━━━━━━━━━━━━\u001b[0m\u001b[37m\u001b[0m \u001b[1m67s\u001b[0m 41ms/step - accuracy: 0.1816 - loss: 0.0413 - val_accuracy: 0.1622 - val_loss: 0.0775\n",
      "Epoch 3/20\n",
      "\u001b[1m1644/1644\u001b[0m \u001b[32m━━━━━━━━━━━━━━━━━━━━\u001b[0m\u001b[37m\u001b[0m \u001b[1m66s\u001b[0m 40ms/step - accuracy: 0.1864 - loss: 0.0323 - val_accuracy: 0.1678 - val_loss: 0.0805\n",
      "Epoch 4/20\n",
      "\u001b[1m1644/1644\u001b[0m \u001b[32m━━━━━━━━━━━━━━━━━━━━\u001b[0m\u001b[37m\u001b[0m \u001b[1m66s\u001b[0m 40ms/step - accuracy: 0.1870 - loss: 0.0269 - val_accuracy: 0.1687 - val_loss: 0.0864\n",
      "Epoch 5/20\n",
      "\u001b[1m1644/1644\u001b[0m \u001b[32m━━━━━━━━━━━━━━━━━━━━\u001b[0m\u001b[37m\u001b[0m \u001b[1m66s\u001b[0m 40ms/step - accuracy: 0.1846 - loss: 0.0237 - val_accuracy: 0.1680 - val_loss: 0.0909\n",
      "Epoch 6/20\n",
      "\u001b[1m1644/1644\u001b[0m \u001b[32m━━━━━━━━━━━━━━━━━━━━\u001b[0m\u001b[37m\u001b[0m \u001b[1m66s\u001b[0m 40ms/step - accuracy: 0.1911 - loss: 0.0216 - val_accuracy: 0.1661 - val_loss: 0.0928\n",
      "Epoch 7/20\n",
      "\u001b[1m1644/1644\u001b[0m \u001b[32m━━━━━━━━━━━━━━━━━━━━\u001b[0m\u001b[37m\u001b[0m \u001b[1m66s\u001b[0m 40ms/step - accuracy: 0.1907 - loss: 0.0196 - val_accuracy: 0.1678 - val_loss: 0.0993\n"
     ]
    },
    {
     "name": "stderr",
     "output_type": "stream",
     "text": [
      " 30%|███       | 3/10 [25:45<58:39, 502.80s/it]  "
     ]
    },
    {
     "name": "stdout",
     "output_type": "stream",
     "text": [
      "Epoch 1/20\n",
      "\u001b[1m1623/1623\u001b[0m \u001b[32m━━━━━━━━━━━━━━━━━━━━\u001b[0m\u001b[37m\u001b[0m \u001b[1m67s\u001b[0m 41ms/step - accuracy: 0.1656 - loss: 0.0669 - val_accuracy: 0.1479 - val_loss: 0.0815\n",
      "Epoch 2/20\n",
      "\u001b[1m1623/1623\u001b[0m \u001b[32m━━━━━━━━━━━━━━━━━━━━\u001b[0m\u001b[37m\u001b[0m \u001b[1m66s\u001b[0m 41ms/step - accuracy: 0.1887 - loss: 0.0362 - val_accuracy: 0.1531 - val_loss: 0.0929\n",
      "Epoch 3/20\n",
      "\u001b[1m1623/1623\u001b[0m \u001b[32m━━━━━━━━━━━━━━━━━━━━\u001b[0m\u001b[37m\u001b[0m \u001b[1m66s\u001b[0m 41ms/step - accuracy: 0.1965 - loss: 0.0277 - val_accuracy: 0.1507 - val_loss: 0.1032\n",
      "Epoch 4/20\n",
      "\u001b[1m1623/1623\u001b[0m \u001b[32m━━━━━━━━━━━━━━━━━━━━\u001b[0m\u001b[37m\u001b[0m \u001b[1m66s\u001b[0m 41ms/step - accuracy: 0.1984 - loss: 0.0231 - val_accuracy: 0.1608 - val_loss: 0.1066\n",
      "Epoch 5/20\n",
      "\u001b[1m1623/1623\u001b[0m \u001b[32m━━━━━━━━━━━━━━━━━━━━\u001b[0m\u001b[37m\u001b[0m \u001b[1m66s\u001b[0m 41ms/step - accuracy: 0.1955 - loss: 0.0204 - val_accuracy: 0.1458 - val_loss: 0.1109\n",
      "Epoch 6/20\n",
      "\u001b[1m1623/1623\u001b[0m \u001b[32m━━━━━━━━━━━━━━━━━━━━\u001b[0m\u001b[37m\u001b[0m \u001b[1m66s\u001b[0m 41ms/step - accuracy: 0.1983 - loss: 0.0187 - val_accuracy: 0.1401 - val_loss: 0.1098\n",
      "Epoch 7/20\n",
      "\u001b[1m1623/1623\u001b[0m \u001b[32m━━━━━━━━━━━━━━━━━━━━\u001b[0m\u001b[37m\u001b[0m \u001b[1m66s\u001b[0m 40ms/step - accuracy: 0.1971 - loss: 0.0200 - val_accuracy: 0.1389 - val_loss: 0.1147\n"
     ]
    },
    {
     "name": "stderr",
     "output_type": "stream",
     "text": [
      " 40%|████      | 4/10 [33:41<49:13, 492.27s/it]"
     ]
    },
    {
     "name": "stdout",
     "output_type": "stream",
     "text": [
      "Epoch 1/20\n",
      "\u001b[1m1648/1648\u001b[0m \u001b[32m━━━━━━━━━━━━━━━━━━━━\u001b[0m\u001b[37m\u001b[0m \u001b[1m70s\u001b[0m 42ms/step - accuracy: 0.1933 - loss: 0.0617 - val_accuracy: 0.1434 - val_loss: 0.0764\n",
      "Epoch 2/20\n",
      "\u001b[1m1648/1648\u001b[0m \u001b[32m━━━━━━━━━━━━━━━━━━━━\u001b[0m\u001b[37m\u001b[0m \u001b[1m68s\u001b[0m 41ms/step - accuracy: 0.2108 - loss: 0.0346 - val_accuracy: 0.1471 - val_loss: 0.0834\n",
      "Epoch 3/20\n",
      "\u001b[1m1648/1648\u001b[0m \u001b[32m━━━━━━━━━━━━━━━━━━━━\u001b[0m\u001b[37m\u001b[0m \u001b[1m67s\u001b[0m 41ms/step - accuracy: 0.2137 - loss: 0.0268 - val_accuracy: 0.1568 - val_loss: 0.0861\n",
      "Epoch 4/20\n",
      "\u001b[1m1648/1648\u001b[0m \u001b[32m━━━━━━━━━━━━━━━━━━━━\u001b[0m\u001b[37m\u001b[0m \u001b[1m68s\u001b[0m 41ms/step - accuracy: 0.2154 - loss: 0.0227 - val_accuracy: 0.1439 - val_loss: 0.0898\n",
      "Epoch 5/20\n",
      "\u001b[1m1648/1648\u001b[0m \u001b[32m━━━━━━━━━━━━━━━━━━━━\u001b[0m\u001b[37m\u001b[0m \u001b[1m68s\u001b[0m 41ms/step - accuracy: 0.2116 - loss: 0.0197 - val_accuracy: 0.1466 - val_loss: 0.0908\n",
      "Epoch 6/20\n",
      "\u001b[1m1648/1648\u001b[0m \u001b[32m━━━━━━━━━━━━━━━━━━━━\u001b[0m\u001b[37m\u001b[0m \u001b[1m67s\u001b[0m 41ms/step - accuracy: 0.2122 - loss: 0.0181 - val_accuracy: 0.1330 - val_loss: 0.0944\n",
      "Epoch 7/20\n",
      "\u001b[1m1648/1648\u001b[0m \u001b[32m━━━━━━━━━━━━━━━━━━━━\u001b[0m\u001b[37m\u001b[0m \u001b[1m68s\u001b[0m 41ms/step - accuracy: 0.2104 - loss: 0.0167 - val_accuracy: 0.1334 - val_loss: 0.0985\n"
     ]
    },
    {
     "name": "stderr",
     "output_type": "stream",
     "text": [
      " 50%|█████     | 5/10 [41:50<40:55, 491.09s/it]"
     ]
    },
    {
     "name": "stdout",
     "output_type": "stream",
     "text": [
      "Epoch 1/20\n",
      "\u001b[1m1574/1574\u001b[0m \u001b[32m━━━━━━━━━━━━━━━━━━━━\u001b[0m\u001b[37m\u001b[0m \u001b[1m65s\u001b[0m 41ms/step - accuracy: 0.1854 - loss: 0.0601 - val_accuracy: 0.0966 - val_loss: 0.0986\n",
      "Epoch 2/20\n",
      "\u001b[1m1574/1574\u001b[0m \u001b[32m━━━━━━━━━━━━━━━━━━━━\u001b[0m\u001b[37m\u001b[0m \u001b[1m64s\u001b[0m 40ms/step - accuracy: 0.1954 - loss: 0.0323 - val_accuracy: 0.0991 - val_loss: 0.1140\n",
      "Epoch 3/20\n",
      "\u001b[1m1574/1574\u001b[0m \u001b[32m━━━━━━━━━━━━━━━━━━━━\u001b[0m\u001b[37m\u001b[0m \u001b[1m63s\u001b[0m 40ms/step - accuracy: 0.1979 - loss: 0.0247 - val_accuracy: 0.1109 - val_loss: 0.1227\n",
      "Epoch 4/20\n",
      "\u001b[1m1574/1574\u001b[0m \u001b[32m━━━━━━━━━━━━━━━━━━━━\u001b[0m\u001b[37m\u001b[0m \u001b[1m63s\u001b[0m 40ms/step - accuracy: 0.2040 - loss: 0.0210 - val_accuracy: 0.1057 - val_loss: 0.1257\n",
      "Epoch 5/20\n",
      "\u001b[1m1574/1574\u001b[0m \u001b[32m━━━━━━━━━━━━━━━━━━━━\u001b[0m\u001b[37m\u001b[0m \u001b[1m63s\u001b[0m 40ms/step - accuracy: 0.2009 - loss: 0.0186 - val_accuracy: 0.1063 - val_loss: 0.1337\n",
      "Epoch 6/20\n",
      "\u001b[1m1574/1574\u001b[0m \u001b[32m━━━━━━━━━━━━━━━━━━━━\u001b[0m\u001b[37m\u001b[0m \u001b[1m63s\u001b[0m 40ms/step - accuracy: 0.2019 - loss: 0.0167 - val_accuracy: 0.1006 - val_loss: 0.1406\n",
      "Epoch 7/20\n",
      "\u001b[1m1574/1574\u001b[0m \u001b[32m━━━━━━━━━━━━━━━━━━━━\u001b[0m\u001b[37m\u001b[0m \u001b[1m64s\u001b[0m 40ms/step - accuracy: 0.1998 - loss: 0.0156 - val_accuracy: 0.1031 - val_loss: 0.1435\n"
     ]
    },
    {
     "name": "stderr",
     "output_type": "stream",
     "text": [
      " 60%|██████    | 6/10 [49:30<32:01, 480.34s/it]"
     ]
    },
    {
     "name": "stdout",
     "output_type": "stream",
     "text": [
      "Epoch 1/20\n",
      "\u001b[1m1709/1709\u001b[0m \u001b[32m━━━━━━━━━━━━━━━━━━━━\u001b[0m\u001b[37m\u001b[0m \u001b[1m82s\u001b[0m 48ms/step - accuracy: 0.1545 - loss: 0.0803 - val_accuracy: 0.2596 - val_loss: 0.0878\n",
      "Epoch 2/20\n",
      "\u001b[1m1709/1709\u001b[0m \u001b[32m━━━━━━━━━━━━━━━━━━━━\u001b[0m\u001b[37m\u001b[0m \u001b[1m78s\u001b[0m 46ms/step - accuracy: 0.1797 - loss: 0.0471 - val_accuracy: 0.2475 - val_loss: 0.0954\n",
      "Epoch 3/20\n",
      "\u001b[1m1709/1709\u001b[0m \u001b[32m━━━━━━━━━━━━━━━━━━━━\u001b[0m\u001b[37m\u001b[0m \u001b[1m78s\u001b[0m 46ms/step - accuracy: 0.1835 - loss: 0.0368 - val_accuracy: 0.2381 - val_loss: 0.0978\n",
      "Epoch 4/20\n",
      "\u001b[1m1709/1709\u001b[0m \u001b[32m━━━━━━━━━━━━━━━━━━━━\u001b[0m\u001b[37m\u001b[0m \u001b[1m78s\u001b[0m 46ms/step - accuracy: 0.1872 - loss: 0.0308 - val_accuracy: 0.2497 - val_loss: 0.1074\n",
      "Epoch 5/20\n",
      "\u001b[1m1709/1709\u001b[0m \u001b[32m━━━━━━━━━━━━━━━━━━━━\u001b[0m\u001b[37m\u001b[0m \u001b[1m78s\u001b[0m 46ms/step - accuracy: 0.1908 - loss: 0.0273 - val_accuracy: 0.2444 - val_loss: 0.1018\n",
      "Epoch 6/20\n",
      "\u001b[1m1709/1709\u001b[0m \u001b[32m━━━━━━━━━━━━━━━━━━━━\u001b[0m\u001b[37m\u001b[0m \u001b[1m79s\u001b[0m 46ms/step - accuracy: 0.1902 - loss: 0.0243 - val_accuracy: 0.2378 - val_loss: 0.1139\n",
      "Epoch 7/20\n",
      "\u001b[1m1709/1709\u001b[0m \u001b[32m━━━━━━━━━━━━━━━━━━━━\u001b[0m\u001b[37m\u001b[0m \u001b[1m79s\u001b[0m 46ms/step - accuracy: 0.1871 - loss: 0.0226 - val_accuracy: 0.2510 - val_loss: 0.1126\n"
     ]
    },
    {
     "name": "stderr",
     "output_type": "stream",
     "text": [
      " 70%|███████   | 7/10 [59:00<25:29, 509.76s/it]"
     ]
    },
    {
     "name": "stdout",
     "output_type": "stream",
     "text": [
      "Epoch 1/20\n",
      "\u001b[1m1638/1638\u001b[0m \u001b[32m━━━━━━━━━━━━━━━━━━━━\u001b[0m\u001b[37m\u001b[0m \u001b[1m76s\u001b[0m 46ms/step - accuracy: 0.1643 - loss: 0.0597 - val_accuracy: 0.2037 - val_loss: 0.0902\n",
      "Epoch 2/20\n",
      "\u001b[1m1638/1638\u001b[0m \u001b[32m━━━━━━━━━━━━━━━━━━━━\u001b[0m\u001b[37m\u001b[0m \u001b[1m73s\u001b[0m 45ms/step - accuracy: 0.1889 - loss: 0.0323 - val_accuracy: 0.2028 - val_loss: 0.0950\n",
      "Epoch 3/20\n",
      "\u001b[1m1638/1638\u001b[0m \u001b[32m━━━━━━━━━━━━━━━━━━━━\u001b[0m\u001b[37m\u001b[0m \u001b[1m73s\u001b[0m 44ms/step - accuracy: 0.1915 - loss: 0.0253 - val_accuracy: 0.2069 - val_loss: 0.0996\n",
      "Epoch 4/20\n",
      "\u001b[1m1638/1638\u001b[0m \u001b[32m━━━━━━━━━━━━━━━━━━━━\u001b[0m\u001b[37m\u001b[0m \u001b[1m73s\u001b[0m 44ms/step - accuracy: 0.1949 - loss: 0.0216 - val_accuracy: 0.2141 - val_loss: 0.1043\n",
      "Epoch 5/20\n",
      "\u001b[1m1638/1638\u001b[0m \u001b[32m━━━━━━━━━━━━━━━━━━━━\u001b[0m\u001b[37m\u001b[0m \u001b[1m73s\u001b[0m 44ms/step - accuracy: 0.1949 - loss: 0.0190 - val_accuracy: 0.2110 - val_loss: 0.1054\n",
      "Epoch 6/20\n",
      "\u001b[1m1638/1638\u001b[0m \u001b[32m━━━━━━━━━━━━━━━━━━━━\u001b[0m\u001b[37m\u001b[0m \u001b[1m74s\u001b[0m 45ms/step - accuracy: 0.1977 - loss: 0.0172 - val_accuracy: 0.1921 - val_loss: 0.1055\n",
      "Epoch 7/20\n",
      "\u001b[1m1638/1638\u001b[0m \u001b[32m━━━━━━━━━━━━━━━━━━━━\u001b[0m\u001b[37m\u001b[0m \u001b[1m73s\u001b[0m 44ms/step - accuracy: 0.1972 - loss: 0.0161 - val_accuracy: 0.2112 - val_loss: 0.1096\n"
     ]
    },
    {
     "name": "stderr",
     "output_type": "stream",
     "text": [
      " 80%|████████  | 8/10 [1:07:47<17:10, 515.17s/it]"
     ]
    },
    {
     "name": "stdout",
     "output_type": "stream",
     "text": [
      "Epoch 1/20\n",
      "\u001b[1m1669/1669\u001b[0m \u001b[32m━━━━━━━━━━━━━━━━━━━━\u001b[0m\u001b[37m\u001b[0m \u001b[1m86s\u001b[0m 51ms/step - accuracy: 0.1752 - loss: 0.0612 - val_accuracy: 0.1330 - val_loss: 0.1119\n",
      "Epoch 2/20\n",
      "\u001b[1m1669/1669\u001b[0m \u001b[32m━━━━━━━━━━━━━━━━━━━━\u001b[0m\u001b[37m\u001b[0m \u001b[1m80s\u001b[0m 48ms/step - accuracy: 0.1770 - loss: 0.0372 - val_accuracy: 0.1236 - val_loss: 0.1215\n",
      "Epoch 3/20\n",
      "\u001b[1m1669/1669\u001b[0m \u001b[32m━━━━━━━━━━━━━━━━━━━━\u001b[0m\u001b[37m\u001b[0m \u001b[1m80s\u001b[0m 48ms/step - accuracy: 0.1809 - loss: 0.0299 - val_accuracy: 0.1288 - val_loss: 0.1290\n",
      "Epoch 4/20\n",
      "\u001b[1m1669/1669\u001b[0m \u001b[32m━━━━━━━━━━━━━━━━━━━━\u001b[0m\u001b[37m\u001b[0m \u001b[1m81s\u001b[0m 48ms/step - accuracy: 0.1829 - loss: 0.0256 - val_accuracy: 0.1360 - val_loss: 0.1372\n",
      "Epoch 5/20\n",
      "\u001b[1m1669/1669\u001b[0m \u001b[32m━━━━━━━━━━━━━━━━━━━━\u001b[0m\u001b[37m\u001b[0m \u001b[1m81s\u001b[0m 48ms/step - accuracy: 0.1877 - loss: 0.0228 - val_accuracy: 0.1220 - val_loss: 0.1425\n",
      "Epoch 6/20\n",
      "\u001b[1m1669/1669\u001b[0m \u001b[32m━━━━━━━━━━━━━━━━━━━━\u001b[0m\u001b[37m\u001b[0m \u001b[1m80s\u001b[0m 48ms/step - accuracy: 0.1825 - loss: 0.0207 - val_accuracy: 0.1244 - val_loss: 0.1484\n",
      "Epoch 7/20\n",
      "\u001b[1m1669/1669\u001b[0m \u001b[32m━━━━━━━━━━━━━━━━━━━━\u001b[0m\u001b[37m\u001b[0m \u001b[1m80s\u001b[0m 48ms/step - accuracy: 0.1805 - loss: 0.0192 - val_accuracy: 0.1331 - val_loss: 0.1542\n"
     ]
    },
    {
     "name": "stderr",
     "output_type": "stream",
     "text": [
      " 90%|█████████ | 9/10 [1:17:30<08:56, 536.40s/it]"
     ]
    },
    {
     "name": "stdout",
     "output_type": "stream",
     "text": [
      "Epoch 1/20\n",
      "\u001b[1m1681/1681\u001b[0m \u001b[32m━━━━━━━━━━━━━━━━━━━━\u001b[0m\u001b[37m\u001b[0m \u001b[1m85s\u001b[0m 50ms/step - accuracy: 0.1584 - loss: 0.0707 - val_accuracy: 0.1666 - val_loss: 0.0884\n",
      "Epoch 2/20\n",
      "\u001b[1m1681/1681\u001b[0m \u001b[32m━━━━━━━━━━━━━━━━━━━━\u001b[0m\u001b[37m\u001b[0m \u001b[1m81s\u001b[0m 48ms/step - accuracy: 0.1694 - loss: 0.0429 - val_accuracy: 0.1757 - val_loss: 0.0995\n",
      "Epoch 3/20\n",
      "\u001b[1m1681/1681\u001b[0m \u001b[32m━━━━━━━━━━━━━━━━━━━━\u001b[0m\u001b[37m\u001b[0m \u001b[1m81s\u001b[0m 48ms/step - accuracy: 0.1728 - loss: 0.0332 - val_accuracy: 0.1672 - val_loss: 0.1053\n",
      "Epoch 4/20\n",
      "\u001b[1m1681/1681\u001b[0m \u001b[32m━━━━━━━━━━━━━━━━━━━━\u001b[0m\u001b[37m\u001b[0m \u001b[1m80s\u001b[0m 48ms/step - accuracy: 0.1733 - loss: 0.0280 - val_accuracy: 0.1667 - val_loss: 0.1092\n",
      "Epoch 5/20\n",
      "\u001b[1m1681/1681\u001b[0m \u001b[32m━━━━━━━━━━━━━━━━━━━━\u001b[0m\u001b[37m\u001b[0m \u001b[1m80s\u001b[0m 48ms/step - accuracy: 0.1742 - loss: 0.0248 - val_accuracy: 0.1587 - val_loss: 0.1138\n",
      "Epoch 6/20\n",
      "\u001b[1m1681/1681\u001b[0m \u001b[32m━━━━━━━━━━━━━━━━━━━━\u001b[0m\u001b[37m\u001b[0m \u001b[1m80s\u001b[0m 47ms/step - accuracy: 0.1719 - loss: 0.0223 - val_accuracy: 0.1724 - val_loss: 0.1178\n",
      "Epoch 7/20\n",
      "\u001b[1m1681/1681\u001b[0m \u001b[32m━━━━━━━━━━━━━━━━━━━━\u001b[0m\u001b[37m\u001b[0m \u001b[1m80s\u001b[0m 48ms/step - accuracy: 0.1751 - loss: 0.0205 - val_accuracy: 0.1649 - val_loss: 0.1197\n"
     ]
    },
    {
     "name": "stderr",
     "output_type": "stream",
     "text": [
      "100%|██████████| 10/10 [1:27:10<00:00, 523.06s/it]\n"
     ]
    }
   ],
   "source": [
    "num_parts = 10\n",
    "\n",
    "for i in tqdm(range(num_parts)):\n",
    "    \n",
    "    training = pd.read_pickle(f'training{i}.pkl')\n",
    "    \n",
    "    xtrain = training[\"Wav Array\"].values\n",
    "    xtrain = np.stack(xtrain)\n",
    "\n",
    "    ytrain = training[\"Midi Labels\"].values\n",
    "    ytrain = np.stack(ytrain)\n",
    "\n",
    "    checkpoint_filepath = f\"{model_name}_best_model_part_{i}.keras\"\n",
    "    checkpoint = ModelCheckpoint(checkpoint_filepath, save_best_only=True)\n",
    "    \n",
    "    early_stopping = EarlyStopping(monitor='val_loss', patience=6)\n",
    "    \n",
    "    # Load existing model or create a new one\n",
    "    if i == 0:\n",
    "        model = create_lstm_model()\n",
    "    else:\n",
    "        model = load_model(f\"{model_name}_final_model_part_{i-1}.keras\")\n",
    "    \n",
    "    # Train the model on existing weights\n",
    "    model.fit(xtrain, ytrain, epochs=20, batch_size=64, callbacks=[early_stopping, checkpoint], validation_split = 0.2)\n",
    "    \n",
    "    # Save the trained model\n",
    "    model.save(f\"{model_name}_final_model_part_{i}.keras\")\n",
    "\n",
    "    del model"
   ]
  },
  {
   "cell_type": "code",
   "execution_count": 4,
   "id": "e568174e-d918-4a4b-ae14-097d6b9559b7",
   "metadata": {},
   "outputs": [],
   "source": [
    "test = pd.read_pickle(\"test1.pkl\")\n",
    "\n",
    "xtest = test[\"Wav Array\"].values\n",
    "xtest = np.stack(xtest)\n",
    "\n",
    "ytest = test[\"Midi Labels\"].values\n",
    "ytest = np.stack(ytest)\n"
   ]
  },
  {
   "cell_type": "code",
   "execution_count": 5,
   "id": "274978b8-b9d5-4416-b58d-e894e5c18068",
   "metadata": {},
   "outputs": [],
   "source": [
    "model = load_model(f\"{model_name}_best_model_part_{i}.keras\")"
   ]
  },
  {
   "cell_type": "code",
   "execution_count": 6,
   "id": "95b39713-87f6-4f41-8d67-8a34927021bf",
   "metadata": {},
   "outputs": [
    {
     "name": "stdout",
     "output_type": "stream",
     "text": [
      "\u001b[1m493/493\u001b[0m \u001b[32m━━━━━━━━━━━━━━━━━━━━\u001b[0m\u001b[37m\u001b[0m \u001b[1m1s\u001b[0m 2ms/step - accuracy: 0.2042 - loss: 0.1788\n",
      "Test Loss: 0.16050787270069122\n",
      "Test Accuracy: 0.18258552253246307\n"
     ]
    }
   ],
   "source": [
    "test_loss, test_accuracy = model.evaluate(xtest, ytest)\n",
    "print(\"Test Loss:\", test_loss)\n",
    "print(\"Test Accuracy:\", test_accuracy)"
   ]
  },
  {
   "cell_type": "code",
   "execution_count": 6,
   "id": "1f556a4f",
   "metadata": {},
   "outputs": [],
   "source": [
    "from sklearn.metrics import f1_score, precision_score, recall_score\n",
    "\n",
    "def accuracy_metric(y_test, y_pred):\n",
    "    threshold = 0.5  # You can adjust this threshold based on your problem\n",
    "    y_pred = (y_pred > threshold).astype(int)\n",
    "\n",
    "    y_true_all = []\n",
    "    y_pred_all = []\n",
    "    # Append true and predicted labels\n",
    "    y_true_all.append(y_test)\n",
    "    y_pred_all.append(y_pred)\n",
    "\n",
    "    y_true_all = np.concatenate(y_true_all)\n",
    "    y_pred_all = np.concatenate(y_pred_all)\n",
    "\n",
    "    # Flatten the predictions and ground truth labels for frame-wise F1 score\n",
    "    y_true_flat = y_true_all.flatten()\n",
    "    y_pred_flat = y_pred_all.flatten()\n",
    "\n",
    "    TP = np.sum((y_true_flat == 1) & (y_pred_flat == 1))\n",
    "    TN = np.sum((y_true_flat == 0) & (y_pred_flat == 0))\n",
    "    FP = np.sum((y_true_flat == 0) & (y_pred_flat == 1))\n",
    "    FN = np.sum((y_true_flat == 1) & (y_pred_flat == 0))\n",
    "\n",
    "\n",
    "    # Calculate frame-wise F1 score\n",
    "    frame_f1 = f1_score(y_true_flat, y_pred_flat, average = \"binary\")\n",
    "    recall = recall_score(y_true_flat, y_pred_flat, average ='binary')\n",
    "    precision = precision_score(y_true_flat, y_pred_flat, average='binary')\n",
    "\n",
    "    return frame_f1, recall, precision, TP, TN, FP, FN\n",
    "\n"
   ]
  },
  {
   "cell_type": "code",
   "execution_count": 12,
   "id": "3f4728bb",
   "metadata": {},
   "outputs": [
    {
     "name": "stdout",
     "output_type": "stream",
     "text": [
      "\u001b[1m301/301\u001b[0m \u001b[32m━━━━━━━━━━━━━━━━━━━━\u001b[0m\u001b[37m\u001b[0m \u001b[1m5s\u001b[0m 14ms/step - accuracy: 0.1328 - loss: 0.1028\n",
      "\u001b[1m301/301\u001b[0m \u001b[32m━━━━━━━━━━━━━━━━━━━━\u001b[0m\u001b[37m\u001b[0m \u001b[1m5s\u001b[0m 15ms/step\n",
      "\u001b[1m369/369\u001b[0m \u001b[32m━━━━━━━━━━━━━━━━━━━━\u001b[0m\u001b[37m\u001b[0m \u001b[1m6s\u001b[0m 15ms/step - accuracy: 0.1764 - loss: 0.0901\n",
      "\u001b[1m369/369\u001b[0m \u001b[32m━━━━━━━━━━━━━━━━━━━━\u001b[0m\u001b[37m\u001b[0m \u001b[1m6s\u001b[0m 15ms/step\n",
      "\u001b[1m505/505\u001b[0m \u001b[32m━━━━━━━━━━━━━━━━━━━━\u001b[0m\u001b[37m\u001b[0m \u001b[1m8s\u001b[0m 14ms/step - accuracy: 0.1330 - loss: 0.0992\n",
      "\u001b[1m505/505\u001b[0m \u001b[32m━━━━━━━━━━━━━━━━━━━━\u001b[0m\u001b[37m\u001b[0m \u001b[1m7s\u001b[0m 14ms/step\n",
      "\u001b[1m562/562\u001b[0m \u001b[32m━━━━━━━━━━━━━━━━━━━━\u001b[0m\u001b[37m\u001b[0m \u001b[1m8s\u001b[0m 14ms/step - accuracy: 0.1337 - loss: 0.0936\n",
      "\u001b[1m562/562\u001b[0m \u001b[32m━━━━━━━━━━━━━━━━━━━━\u001b[0m\u001b[37m\u001b[0m \u001b[1m8s\u001b[0m 14ms/step\n",
      "\u001b[1m486/486\u001b[0m \u001b[32m━━━━━━━━━━━━━━━━━━━━\u001b[0m\u001b[37m\u001b[0m \u001b[1m7s\u001b[0m 14ms/step - accuracy: 0.1753 - loss: 0.0759\n",
      "\u001b[1m486/486\u001b[0m \u001b[32m━━━━━━━━━━━━━━━━━━━━\u001b[0m\u001b[37m\u001b[0m \u001b[1m7s\u001b[0m 14ms/step\n",
      "\u001b[1m668/668\u001b[0m \u001b[32m━━━━━━━━━━━━━━━━━━━━\u001b[0m\u001b[37m\u001b[0m \u001b[1m13s\u001b[0m 19ms/step - accuracy: 0.1082 - loss: 0.1108\n",
      "\u001b[1m668/668\u001b[0m \u001b[32m━━━━━━━━━━━━━━━━━━━━\u001b[0m\u001b[37m\u001b[0m \u001b[1m13s\u001b[0m 20ms/step\n",
      "\u001b[1m314/314\u001b[0m \u001b[32m━━━━━━━━━━━━━━━━━━━━\u001b[0m\u001b[37m\u001b[0m \u001b[1m5s\u001b[0m 14ms/step - accuracy: 0.1030 - loss: 0.1304\n",
      "\u001b[1m314/314\u001b[0m \u001b[32m━━━━━━━━━━━━━━━━━━━━\u001b[0m\u001b[37m\u001b[0m \u001b[1m5s\u001b[0m 14ms/step\n",
      "\u001b[1m508/508\u001b[0m \u001b[32m━━━━━━━━━━━━━━━━━━━━\u001b[0m\u001b[37m\u001b[0m \u001b[1m7s\u001b[0m 14ms/step - accuracy: 0.1452 - loss: 0.1044\n",
      "\u001b[1m508/508\u001b[0m \u001b[32m━━━━━━━━━━━━━━━━━━━━\u001b[0m\u001b[37m\u001b[0m \u001b[1m7s\u001b[0m 14ms/step\n",
      "\u001b[1m426/426\u001b[0m \u001b[32m━━━━━━━━━━━━━━━━━━━━\u001b[0m\u001b[37m\u001b[0m \u001b[1m6s\u001b[0m 14ms/step - accuracy: 0.1436 - loss: 0.0838\n",
      "\u001b[1m426/426\u001b[0m \u001b[32m━━━━━━━━━━━━━━━━━━━━\u001b[0m\u001b[37m\u001b[0m \u001b[1m6s\u001b[0m 14ms/step\n",
      "\u001b[1m288/288\u001b[0m \u001b[32m━━━━━━━━━━━━━━━━━━━━\u001b[0m\u001b[37m\u001b[0m \u001b[1m4s\u001b[0m 14ms/step - accuracy: 0.1994 - loss: 0.0906\n",
      "\u001b[1m288/288\u001b[0m \u001b[32m━━━━━━━━━━━━━━━━━━━━\u001b[0m\u001b[37m\u001b[0m \u001b[1m4s\u001b[0m 13ms/step\n",
      "Framewise F1 score: 0.6881724432956781\n",
      "Framewise Recall: 0.6167314140417085\n",
      "Framewise Precision: 0.7795280625694233\n",
      "Model Accuracy: 0.1368418081676965\n",
      "[[11609549   125233]\n",
      " [  276718   444284]]\n",
      "Calculated Accuracy: 0.9677297711649463\n"
     ]
    }
   ],
   "source": [
    "#For multiple test files\n",
    "os.chdir(r\"C:\\Users\\Rui Han\\Desktop\\ML project\\MAESTRO processed\\22to1traintest\")\n",
    "\n",
    "f1sum = 0\n",
    "recallsum = 0\n",
    "precisionsum = 0\n",
    "accuracysum = 0\n",
    "TPsum = 0\n",
    "TNsum = 0 \n",
    "FPsum = 0 \n",
    "FNsum = 0 \n",
    "rowsum = 0\n",
    "\n",
    "\n",
    "num_parts = 10\n",
    "\n",
    "\n",
    "for i in range(num_parts):\n",
    "    # test = pd.read_pickle(file_path + f'/test{i}.pkl')\n",
    "    test = pd.read_pickle(f'MAESTROONLYtest{i}.pkl')\n",
    "    xtest = test[\"Wav Array\"].values\n",
    "    xtest = np.stack(xtest)\n",
    "\n",
    "    ytest = test[\"Midi Labels\"].values\n",
    "    ytest = np.stack(ytest)\n",
    "\n",
    "    set_len = xtest.shape[0]\n",
    "    rowsum += set_len\n",
    "\n",
    "    best_model = load_model(f\"{model_name}_best_model_part_9.weights.keras\")\n",
    "\n",
    "    test_loss, test_accuracy = best_model.evaluate(xtest, ytest)\n",
    "\n",
    "    y_pred = best_model.predict(xtest)\n",
    "\n",
    "    frame_f1, recall, precision, TP, TN, FP, FN = accuracy_metric(ytest, y_pred)\n",
    "\n",
    "    f1sum += frame_f1 *set_len\n",
    "    recallsum += recall*set_len\n",
    "    precisionsum += precision*set_len\n",
    "    accuracysum += test_accuracy*set_len\n",
    "\n",
    "    TPsum += TP\n",
    "    TNsum += TN\n",
    "    FPsum += FP\n",
    "    FNsum += FN\n",
    "\n",
    "\n",
    "print(f\"Framewise F1 score: {f1sum/rowsum}\")\n",
    "print(f\"Framewise Recall: {recallsum/rowsum}\")\n",
    "print(f\"Framewise Precision: {precisionsum/rowsum}\")\n",
    "print(f\"Model Accuracy: {accuracysum/rowsum}\")\n",
    "\n",
    "finalTN = TNsum\n",
    "finalFP = FPsum\n",
    "finalFN = FNsum\n",
    "finalTP = TPsum\n",
    "\n",
    "confusion_matrix = np.array([[finalTN, finalFP],\n",
    "                                  [finalFN, finalTP]])\n",
    "\n",
    "print(confusion_matrix)\n",
    "\n",
    "accuracy = (finalTN + finalTP)/ (finalTN + finalFP + finalFN + finalTP)\n",
    "\n",
    "\n",
    "print(f\"Calculated Accuracy: {accuracy}\")\n"
   ]
  },
  {
   "cell_type": "code",
   "execution_count": 10,
   "id": "9988675e-ceeb-4eee-a7dd-509845b2b967",
   "metadata": {},
   "outputs": [
    {
     "name": "stdout",
     "output_type": "stream",
     "text": [
      "\u001b[1m2584/2584\u001b[0m \u001b[32m━━━━━━━━━━━━━━━━━━━━\u001b[0m\u001b[37m\u001b[0m \u001b[1m36s\u001b[0m 14ms/step - accuracy: 0.1390 - loss: 0.1046\n",
      "\u001b[1m2584/2584\u001b[0m \u001b[32m━━━━━━━━━━━━━━━━━━━━\u001b[0m\u001b[37m\u001b[0m \u001b[1m36s\u001b[0m 14ms/step\n",
      "Framewise F1 score: 0.5513088004479778\n",
      "Framewise Recall: 0.4515211514801406\n",
      "Framewise Precision: 0.7077164461770276\n",
      "calculated Accuracy: 0.977087546975581\n",
      "[['TP: 102391' 'FP: 42287']\n",
      " ['FN: 124378' 'TN: 7004936']]\n"
     ]
    }
   ],
   "source": [
    "#ONLY USE WHEN THERE IS ONE FILE\n",
    "\n",
    "import numpy as np\n",
    "import pandas as pd\n",
    "from tensorflow.keras.models import load_model\n",
    "\n",
    "\n",
    "testing = pd.read_pickle('MAPS_EVERYTHINGtest22by1.pkl')\n",
    "x_test = np.stack(testing[\"Wav Array\"].values)\n",
    "y_test = np.stack(testing[\"Midi Labels\"].values)\n",
    "\n",
    "#best_model = load_model(f\"best_model_part_{i}.keras\")\n",
    "best_model = load_model(f\"{model_name}_best_model_part_9.weights.keras\")\n",
    "\n",
    "test_loss, test_accuracy = best_model.evaluate(x_test, y_test)\n",
    "\n",
    "# Predict probabilities for the testing data\n",
    "y_pred = best_model.predict(x_test)\n",
    "\n",
    "frame_f1, recall, precision, TP, TN, FP, FN = accuracy_metric(y_test, y_pred)\n",
    "\n",
    "accuracy = (TP + TN)/ (TP + TN + FP + FN)\n",
    "\n",
    "confusion_matrix = np.array([[f\"TP: {TP}\", f\"FP: {FP}\"],\n",
    "                                  [f\"FN: {FN}\", f\"TN: {TN}\"]])\n",
    "\n",
    "print(f\"Framewise F1 score: {frame_f1}\")\n",
    "print(f\"Framewise Recall: {recall}\")\n",
    "print(f\"Framewise Precision: {precision}\")\n",
    "print(f\"calculated Accuracy: {accuracy}\")\n",
    "print(confusion_matrix)\n"
   ]
  }
 ],
 "metadata": {
  "kernelspec": {
   "display_name": "Python 3 (ipykernel)",
   "language": "python",
   "name": "python3"
  },
  "language_info": {
   "codemirror_mode": {
    "name": "ipython",
    "version": 3
   },
   "file_extension": ".py",
   "mimetype": "text/x-python",
   "name": "python",
   "nbconvert_exporter": "python",
   "pygments_lexer": "ipython3",
   "version": "3.12.2"
  }
 },
 "nbformat": 4,
 "nbformat_minor": 5
}
